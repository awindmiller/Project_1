{
 "cells": [
  {
   "cell_type": "code",
   "execution_count": 4,
   "metadata": {},
   "outputs": [],
   "source": [
    "import requests\n",
    "import json\n",
    "from config import gkey\n",
    "OriginalUrl = \"https://maps.googleapis.com/maps/api/geocode/json\"\n"
   ]
  },
  {
   "cell_type": "code",
   "execution_count": 5,
   "metadata": {},
   "outputs": [
    {
     "name": "stdout",
     "output_type": "stream",
     "text": [
      "Chase Field: 33.4455093, -112.0662181\n"
     ]
    }
   ],
   "source": [
    "StadiumOne = \"Chase Field\"\n",
    "params = {\"address\": StadiumOne, \"key\": gkey}\n",
    "params[\"address\"] = StadiumOne\n",
    "\n",
    "response = requests.get(OriginalUrl, params=params)\n",
    "\n",
    "ChaseGeo = response.json()\n",
    "\n",
    "lat = ChaseGeo[\"results\"][0][\"geometry\"][\"location\"][\"lat\"]\n",
    "lng = ChaseGeo[\"results\"][0][\"geometry\"][\"location\"][\"lng\"]\n",
    "print(f\"{StadiumOne}: {lat}, {lng}\")\n",
    "\n"
   ]
  },
  {
   "cell_type": "code",
   "execution_count": 8,
   "metadata": {},
   "outputs": [
    {
     "ename": "TypeError",
     "evalue": "list indices must be integers or slices, not str",
     "output_type": "error",
     "traceback": [
      "\u001b[1;31m---------------------------------------------------------------------------\u001b[0m",
      "\u001b[1;31mTypeError\u001b[0m                                 Traceback (most recent call last)",
      "\u001b[1;32m<ipython-input-8-987054a16907>\u001b[0m in \u001b[0;36m<module>\u001b[1;34m\u001b[0m\n\u001b[0;32m      3\u001b[0m \u001b[1;33m\u001b[0m\u001b[0m\n\u001b[0;32m      4\u001b[0m \u001b[1;32mfor\u001b[0m \u001b[0mstadium\u001b[0m \u001b[1;32min\u001b[0m \u001b[0mStadiums\u001b[0m\u001b[1;33m:\u001b[0m\u001b[1;33m\u001b[0m\u001b[1;33m\u001b[0m\u001b[0m\n\u001b[1;32m----> 5\u001b[1;33m     \u001b[0mparams\u001b[0m \u001b[1;33m=\u001b[0m \u001b[1;33m{\u001b[0m\u001b[1;34m\"address\"\u001b[0m\u001b[1;33m:\u001b[0m \u001b[0mStadiums\u001b[0m\u001b[1;33m[\u001b[0m\u001b[0mstadium\u001b[0m\u001b[1;33m]\u001b[0m\u001b[1;33m,\u001b[0m \u001b[1;34m\"key\"\u001b[0m\u001b[1;33m:\u001b[0m \u001b[0mgkey\u001b[0m\u001b[1;33m}\u001b[0m\u001b[1;33m\u001b[0m\u001b[1;33m\u001b[0m\u001b[0m\n\u001b[0m\u001b[0;32m      6\u001b[0m     \u001b[0mparams\u001b[0m\u001b[1;33m[\u001b[0m\u001b[1;34m\"address\"\u001b[0m\u001b[1;33m]\u001b[0m \u001b[1;33m=\u001b[0m \u001b[0mStadiums\u001b[0m\u001b[1;33m[\u001b[0m\u001b[0mstadium\u001b[0m\u001b[1;33m]\u001b[0m\u001b[1;33m\u001b[0m\u001b[1;33m\u001b[0m\u001b[0m\n\u001b[0;32m      7\u001b[0m     \u001b[0mresponse\u001b[0m \u001b[1;33m=\u001b[0m \u001b[0mrequests\u001b[0m\u001b[1;33m.\u001b[0m\u001b[0mget\u001b[0m\u001b[1;33m(\u001b[0m\u001b[0mOriginalUrl\u001b[0m\u001b[1;33m,\u001b[0m \u001b[0mparams\u001b[0m\u001b[1;33m=\u001b[0m\u001b[0mparams\u001b[0m\u001b[1;33m)\u001b[0m\u001b[1;33m\u001b[0m\u001b[1;33m\u001b[0m\u001b[0m\n",
      "\u001b[1;31mTypeError\u001b[0m: list indices must be integers or slices, not str"
     ]
    }
   ],
   "source": [
    "#Stadiums = [\"Chase Field\", \"Minute Maid Park\", \"Marlins Park\", \"Miller Park\", \"T-Mobile Park\", \"Rogers Centre\"]\n",
    "\n",
    "\n",
    "#for stadium in Stadiums:\n",
    "    #params = {\"address\": Stadiums[stadium], \"key\": gkey}\n",
    "    #params[\"address\"] = Stadiums[stadium]\n",
    "    #response = requests.get(OriginalUrl, params=params)\n",
    "    #StadiumGeo = response.json()\n",
    "    #Lat = StadiumGeo[\"results\"][0][\"geometry\"][\"location\"][\"lat\"]\n",
    "    #Lng = StadiumGeo[\"results\"][0][\"geometry\"][\"location\"][\"lng\"]\n",
    "    #print(f\"{Stadiums}: {Lat}, {Lng}\")\n",
    "\n",
    "\n",
    "\n",
    "\n",
    "\n",
    "\n",
    "\n",
    "\n",
    "\n",
    "\n"
   ]
  },
  {
   "cell_type": "code",
   "execution_count": 10,
   "metadata": {},
   "outputs": [
    {
     "name": "stdout",
     "output_type": "stream",
     "text": [
      "Minute Maid Park: 29.7572694, -95.3555143\n"
     ]
    }
   ],
   "source": [
    "StadiumTwo = \"Minute Maid Park\"\n",
    "params = {\"address\": StadiumTwo, \"key\": gkey}\n",
    "params[\"address\"] = StadiumTwo\n",
    "\n",
    "response = requests.get(OriginalUrl, params=params)\n",
    "\n",
    "MMGeo = response.json()\n",
    "\n",
    "lat = MMGeo[\"results\"][0][\"geometry\"][\"location\"][\"lat\"]\n",
    "lng = MMGeo[\"results\"][0][\"geometry\"][\"location\"][\"lng\"]\n",
    "print(f\"{StadiumTwo}: {lat}, {lng}\")\n"
   ]
  },
  {
   "cell_type": "code",
   "execution_count": 11,
   "metadata": {},
   "outputs": [
    {
     "name": "stdout",
     "output_type": "stream",
     "text": [
      "Marlins Park: 25.7781486, -80.21973349999999\n"
     ]
    }
   ],
   "source": [
    "StadiumThree = \"Marlins Park\"\n",
    "params = {\"address\": StadiumThree, \"key\": gkey}\n",
    "params[\"address\"] = StadiumThree\n",
    "\n",
    "response = requests.get(OriginalUrl, params=params)\n",
    "\n",
    "MPGeo = response.json()\n",
    "\n",
    "lat = MPGeo[\"results\"][0][\"geometry\"][\"location\"][\"lat\"]\n",
    "lng = MPGeo[\"results\"][0][\"geometry\"][\"location\"][\"lng\"]\n",
    "print(f\"{StadiumThree}: {lat}, {lng}\")\n"
   ]
  },
  {
   "cell_type": "code",
   "execution_count": 13,
   "metadata": {},
   "outputs": [
    {
     "name": "stdout",
     "output_type": "stream",
     "text": [
      "Miller Park: 43.0279776, -87.9711504\n"
     ]
    }
   ],
   "source": [
    "StadiumFour = \"Miller Park\"\n",
    "params = {\"address\": StadiumFour, \"key\": gkey}\n",
    "params[\"address\"] = StadiumFour\n",
    "\n",
    "response = requests.get(OriginalUrl, params=params)\n",
    "\n",
    "MillerGeo = response.json()\n",
    "\n",
    "lat = MillerGeo[\"results\"][0][\"geometry\"][\"location\"][\"lat\"]\n",
    "lng = MillerGeo[\"results\"][0][\"geometry\"][\"location\"][\"lng\"]\n",
    "print(f\"{StadiumFour}: {lat}, {lng}\")"
   ]
  },
  {
   "cell_type": "code",
   "execution_count": 14,
   "metadata": {},
   "outputs": [
    {
     "name": "stdout",
     "output_type": "stream",
     "text": [
      "T-Mobile Park: 47.5914026, -122.3325085\n"
     ]
    }
   ],
   "source": [
    "StadiumFive = \"T-Mobile Park\"\n",
    "params = {\"address\": StadiumFive, \"key\": gkey}\n",
    "params[\"address\"] = StadiumFive\n",
    "\n",
    "response = requests.get(OriginalUrl, params=params)\n",
    "\n",
    "TMGeo = response.json()\n",
    "\n",
    "lat = TMGeo[\"results\"][0][\"geometry\"][\"location\"][\"lat\"]\n",
    "lng = TMGeo[\"results\"][0][\"geometry\"][\"location\"][\"lng\"]\n",
    "print(f\"{StadiumFive}: {lat}, {lng}\")"
   ]
  },
  {
   "cell_type": "code",
   "execution_count": 16,
   "metadata": {},
   "outputs": [
    {
     "name": "stdout",
     "output_type": "stream",
     "text": [
      "Rogers Centre: 43.6414378, -79.3893532\n"
     ]
    }
   ],
   "source": [
    "StadiumSix = \"Rogers Centre\"\n",
    "params = {\"address\": StadiumSix, \"key\": gkey}\n",
    "params[\"address\"] = StadiumSix\n",
    "\n",
    "response = requests.get(OriginalUrl, params=params)\n",
    "\n",
    "RCGeo = response.json()\n",
    "\n",
    "lat = RCGeo[\"results\"][0][\"geometry\"][\"location\"][\"lat\"]\n",
    "lng = RCGeo[\"results\"][0][\"geometry\"][\"location\"][\"lng\"]\n",
    "print(f\"{StadiumSix}: {lat}, {lng}\")"
   ]
  },
  {
   "cell_type": "code",
   "execution_count": null,
   "metadata": {},
   "outputs": [],
   "source": []
  }
 ],
 "metadata": {
  "kernelspec": {
   "display_name": "Python 3",
   "language": "python",
   "name": "python3"
  },
  "language_info": {
   "codemirror_mode": {
    "name": "ipython",
    "version": 3
   },
   "file_extension": ".py",
   "mimetype": "text/x-python",
   "name": "python",
   "nbconvert_exporter": "python",
   "pygments_lexer": "ipython3",
   "version": "3.7.1"
  }
 },
 "nbformat": 4,
 "nbformat_minor": 2
}
